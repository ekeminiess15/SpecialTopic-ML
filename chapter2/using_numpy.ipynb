{
 "cells": [
  {
   "cell_type": "markdown",
   "metadata": {},
   "source": [
    "# Numpy [Documentation](http://numpy.org/doc)"
   ]
  },
  {
   "cell_type": "code",
   "execution_count": 2,
   "metadata": {},
   "outputs": [],
   "source": [
    "import numpy as np\n",
    "import matplotlib.pyplot as plt"
   ]
  },
  {
   "cell_type": "code",
   "execution_count": 8,
   "metadata": {},
   "outputs": [
    {
     "name": "stdout",
     "output_type": "stream",
     "text": [
      "Array dimension:  (4,)\n",
      "number of elements in the array:  4\n",
      "Array dimension:  (3, 4)\n",
      "number of elements in the array:  12\n"
     ]
    }
   ],
   "source": [
    "a = np.array([1,2,3,4]) # 1-D array\n",
    "print(\"Array dimension: \",a.shape)\n",
    "print(\"number of elements in the array: \",a.size)\n",
    "\n",
    "b = np.array([[3,4,5,3],[7,1,2,9],[10,2,3,7]]) # 2-D array\n",
    "print(\"Array dimension: \",b.shape)\n",
    "print(\"number of elements in the array: \",b.size)"
   ]
  },
  {
   "cell_type": "code",
   "execution_count": 10,
   "metadata": {},
   "outputs": [
    {
     "name": "stdout",
     "output_type": "stream",
     "text": [
      "[[0. 0. 0. 0.]\n",
      " [0. 0. 0. 0.]\n",
      " [0. 0. 0. 0.]] \n",
      "\n",
      "[[1. 1. 1. 1.]\n",
      " [1. 1. 1. 1.]\n",
      " [1. 1. 1. 1.]] \n",
      "\n",
      "[[1. 0. 0. 0.]\n",
      " [0. 1. 0. 0.]\n",
      " [0. 0. 1. 0.]\n",
      " [0. 0. 0. 1.]]\n"
     ]
    }
   ],
   "source": [
    "# initializing np array\n",
    "c = np.zeros((3,4))\n",
    "print(c,\"\\n\")\n",
    "\n",
    "d = np.ones((3,4))\n",
    "print(d,\"\\n\")\n",
    "\n",
    "e = np.eye(4)\n",
    "print(e)\n"
   ]
  },
  {
   "cell_type": "code",
   "execution_count": 11,
   "metadata": {},
   "outputs": [
    {
     "name": "stdout",
     "output_type": "stream",
     "text": [
      "Array  [[ 3  4  5  3]\n",
      " [ 7  1  2  9]\n",
      " [10  2  3  7]]\n",
      "element b[1,2]=4\n"
     ]
    }
   ],
   "source": [
    "# Accessing arrays elements\n",
    "print(\"Array \", b)\n",
    "print(\"element b[{},{}]={}\".format(1,2,b[0,1]))"
   ]
  },
  {
   "cell_type": "code",
   "execution_count": 14,
   "metadata": {},
   "outputs": [
    {
     "name": "stdout",
     "output_type": "stream",
     "text": [
      "Original matrix: \n",
      " [[ 2  4  5  6]\n",
      " [ 7  1  2  9]\n",
      " [10  2  3  7]]\n",
      "deleting the second row: \n",
      " [[ 2  4  5  6]\n",
      " [10  2  3  7]]\n",
      "deleting the second column: \n",
      " [[ 2  5  6]\n",
      " [ 7  2  9]\n",
      " [10  3  7]]\n"
     ]
    }
   ],
   "source": [
    "# Deleting an element in an Array\n",
    "print(\"Original matrix: \\n\",b)\n",
    "d = np.delete(b,1,0)\n",
    "f = np.delete(b,1,1)\n",
    "print(\"deleting the second row: \\n\",d)\n",
    "print(\"deleting the second column: \\n\",f)"
   ]
  },
  {
   "cell_type": "code",
   "execution_count": 15,
   "metadata": {},
   "outputs": [
    {
     "name": "stdout",
     "output_type": "stream",
     "text": [
      "[[ 2  4  5  6]\n",
      " [ 7  1  2  9]\n",
      " [10  2  3  7]]\n"
     ]
    }
   ],
   "source": [
    "b[0,:] = [2,4,5,6]\n",
    "print(b)"
   ]
  },
  {
   "cell_type": "code",
   "execution_count": 19,
   "metadata": {},
   "outputs": [
    {
     "name": "stdout",
     "output_type": "stream",
     "text": [
      "[ 2  4  5  6  7  1  2  9 10  2  3  7]\n"
     ]
    }
   ],
   "source": [
    "# Conver 2-D array into 1-D array\n",
    "t = np.ndarray.flatten(b)\n",
    "print(t)\n"
   ]
  },
  {
   "cell_type": "code",
   "execution_count": 21,
   "metadata": {},
   "outputs": [
    {
     "name": "stdout",
     "output_type": "stream",
     "text": [
      "[False False False  True  True False False  True  True False False  True]\n",
      "verify b[0,0] = 2 ----> False \n"
     ]
    }
   ],
   "source": [
    "# finding values given a condition\n",
    "print(t>5)\n",
    "print(\"verify b[{},{}] = {} ----> {} \".format(0,0,b[0,0],(b[0,0]>5)))"
   ]
  },
  {
   "cell_type": "code",
   "execution_count": 32,
   "metadata": {},
   "outputs": [
    {
     "data": {
      "text/plain": [
       "<function matplotlib.pyplot.show(close=None, block=None)>"
      ]
     },
     "execution_count": 32,
     "metadata": {},
     "output_type": "execute_result"
    },
    {
     "data": {
      "image/png": "[encoded data removed]",
      "text/plain": [
       "<Figure size 640x480 with 1 Axes>"
      ]
     },
     "metadata": {},
     "output_type": "display_data"
    }
   ],
   "source": [
    "plt.plot([1,2,3,4,],[1,4,9,16,],'g*')\n",
    "plt.axis([0,6,0,20])\n",
    "plt.show # may not always need"
   ]
  },
  {
   "cell_type": "code",
   "execution_count": 35,
   "metadata": {},
   "outputs": [
    {
     "data": {
      "text/plain": [
       "[<matplotlib.lines.Line2D at 0x22a6669bca0>,\n",
       " <matplotlib.lines.Line2D at 0x22a6669bc70>,\n",
       " <matplotlib.lines.Line2D at 0x22a6669be50>]"
      ]
     },
     "execution_count": 35,
     "metadata": {},
     "output_type": "execute_result"
    },
    {
     "data": {
      "image/png": "[encoded data removed]",
      "text/plain": [
       "<Figure size 640x480 with 1 Axes>"
      ]
     },
     "metadata": {},
     "output_type": "display_data"
    }
   ],
   "source": [
    "# creating an array with values 0 to 5 using 0.2 as step\n",
    "t = np.arange(0.,5.,0.2)\n",
    "\n",
    "# plotting three different functions in one figure. (t,t,'r-'), (t,t**2,'bs'), (t,t**3,'g^')\n",
    "plt.plot(t,t,'r-',t,t**2,'bs',t,t**3,'g^')\n",
    "plt.show()"
   ]
  }
 ],
 "metadata": {
  "kernelspec": {
   "display_name": "Python 3.10.6 64-bit",
   "language": "python",
   "name": "python3"
  },
  "language_info": {
   "codemirror_mode": {
    "name": "ipython",
    "version": 3
   },
   "file_extension": ".py",
   "mimetype": "text/x-python",
   "name": "python",
   "nbconvert_exporter": "python",
   "pygments_lexer": "ipython3",
   "version": "3.10.6"
  },
  "orig_nbformat": 4,
  "vscode": {
   "interpreter": {
    "hash": "369f2c481f4da34e4445cda3fffd2e751bd1c4d706f27375911949ba6bb62e1c"
   }
  }
 },
 "nbformat": 4,
 "nbformat_minor": 2
}
