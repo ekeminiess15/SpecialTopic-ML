{
 "cells": [
  {
   "cell_type": "markdown",
   "metadata": {},
   "source": [
    "# This program will find the surface area of a right cylinder"
   ]
  },
  {
   "cell_type": "markdown",
   "metadata": {},
   "source": [
    "#Initial variable declarations"
   ]
  },
  {
   "cell_type": "code",
   "execution_count": 6,
   "metadata": {},
   "outputs": [
    {
     "name": "stdout",
     "output_type": "stream",
     "text": [
      "The radius is 6.0. The height is 3.0.\n",
      "\n"
     ]
    }
   ],
   "source": [
    "import math\n",
    "\n",
    "# Asking the user to input the radius of the base\n",
    "r = input(\"Please enter the radius of the base: \")\n",
    "r = float(r)\n",
    "\n",
    "# Asking the user to input the height of the cylinder\n",
    "h = input(\"Please enter the height of the cylinder: \")\n",
    "h = float(h)\n",
    "\n",
    "print(\"The radius is {}. The height is {}.\\n\".format(r,h))"
   ]
  },
  {
   "cell_type": "markdown",
   "metadata": {},
   "source": [
    "#Creating the formula and calculating the surface area"
   ]
  },
  {
   "cell_type": "code",
   "execution_count": 13,
   "metadata": {},
   "outputs": [
    {
     "name": "stdout",
     "output_type": "stream",
     "text": [
      "The surface area of the cylinder is 339.29 square feet.\n",
      "\n"
     ]
    }
   ],
   "source": [
    "# A = (2*pi*r*h) + (2*pi*r**2)\n",
    "\n",
    "def surface_area(r, h):\n",
    "    surfaceArea = (2*math.pi*r*h) + (2*math.pi*r**2)\n",
    "    print(\"The surface area of the cylinder is {:.2f} square feet.\\n\".format(surfaceArea))"
   ]
  },
  {
   "cell_type": "markdown",
   "metadata": {},
   "source": [
    "#Creating a while loop that will run as long as user wants to use the program"
   ]
  },
  {
   "cell_type": "code",
   "execution_count": null,
   "metadata": {},
   "outputs": [],
   "source": [
    "cont = \"yes\"\n",
    "while(cont == \"yes\"):\n",
    "    r = input(\"Please enter the radius of the base: \")\n",
    "    r = float(r)\n",
    "    h = input(\"Please enter the height of the cylinder: \")\n",
    "    h = float(h)\n",
    "    surface_area(r, h)\n",
    "    cont = input(\"\\nWould you like to continue using the application? \")"
   ]
  }
 ],
 "metadata": {
  "kernelspec": {
   "display_name": "Python 3.10.6 64-bit",
   "language": "python",
   "name": "python3"
  },
  "language_info": {
   "codemirror_mode": {
    "name": "ipython",
    "version": 3
   },
   "file_extension": ".py",
   "mimetype": "text/x-python",
   "name": "python",
   "nbconvert_exporter": "python",
   "pygments_lexer": "ipython3",
   "version": "3.10.6"
  },
  "orig_nbformat": 4,
  "vscode": {
   "interpreter": {
    "hash": "369f2c481f4da34e4445cda3fffd2e751bd1c4d706f27375911949ba6bb62e1c"
   }
  }
 },
 "nbformat": 4,
 "nbformat_minor": 2
}
